{
 "cells": [
  {
   "cell_type": "markdown",
   "metadata": {},
   "source": [
    "# 1. Introduction/Business Problem"
   ]
  },
  {
   "cell_type": "markdown",
   "metadata": {},
   "source": [
    "A client is looking into starting a restaurant focused on Japanese cuisine. The location would be in Toronto, Canada, but the client would need to know which neighborhood in the city would offer the most benefits to the business operation, and of course, to maximize revenue.\n",
    "\n",
    "Our objective in this project is to gather information on the different neighborhoods in Toronto, and advise our client with the most strategic location based on demographics of residents, area population, and average income. We will be using the Foursquare API for exploring nearby venues and retrieving demographic data from Toronto’s Open Data Portal."
   ]
  },
  {
   "cell_type": "markdown",
   "metadata": {},
   "source": [
    "# Data"
   ]
  },
  {
   "cell_type": "markdown",
   "metadata": {},
   "source": [
    "* The neighborhoods with their respective postal codes and boroughs were scraped from Wikipedia. \n",
    "* Geographical coordinates for each neighborhood were extracted from the file provided to us in last week's assignment. \n",
    "* Toronto’s demographic data, such as median household income, total population, and population of different ethnicity for each neighbourhood is retrieved from Toronto’s Open Data Portal. \n",
    "* We will also be using the Foursquare API to explore the list of different venues nearby in each neighbourhood."
   ]
  },
  {
   "cell_type": "code",
   "execution_count": null,
   "metadata": {},
   "outputs": [],
   "source": []
  }
 ],
 "metadata": {
  "kernelspec": {
   "display_name": "Python",
   "language": "python",
   "name": "conda-env-python-py"
  },
  "language_info": {
   "codemirror_mode": {
    "name": "ipython",
    "version": 3
   },
   "file_extension": ".py",
   "mimetype": "text/x-python",
   "name": "python",
   "nbconvert_exporter": "python",
   "pygments_lexer": "ipython3",
   "version": "3.6.10"
  }
 },
 "nbformat": 4,
 "nbformat_minor": 4
}
